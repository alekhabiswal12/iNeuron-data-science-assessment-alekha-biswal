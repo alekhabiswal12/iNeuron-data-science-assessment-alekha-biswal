{
 "cells": [
  {
   "cell_type": "code",
   "execution_count": null,
   "id": "2f25158f-a7a9-4840-8777-d999ca9aea08",
   "metadata": {},
   "outputs": [],
   "source": [
    "def flatten_dict(input_dict, current_key=None):\n",
    "    output = {}\n",
    "\n",
    "    for key, value in input_dict.items():\n",
    "        if current_key is not None:\n",
    "            new_key = current_key + [key]\n",
    "        else:\n",
    "            new_key = [key]\n",
    "\n",
    "        if isinstance(value, dict):\n",
    "            output.update(flatten_dict(value, new_key))\n",
    "        else:\n",
    "            output[tuple(new_key)] = value\n",
    "\n",
    "    return output\n",
    "\n",
    "def print_output(input_dict):\n",
    "    flattened_dict = flatten_dict(input_dict)\n",
    "    output = {}\n",
    "\n",
    "    for key, value in flattened_dict.items():\n",
    "        if isinstance(value, dict):\n",
    "            next_key = list(value.keys())[0]\n",
    "            output[key[-1]] = [next_key[-1]]\n",
    "        else:\n",
    "            output[key[-1]] = value\n",
    "\n",
    "    print(output)\n",
    "\n",
    "# Example usage:\n",
    "input_dict = {\"abc\":{\"def\":{\"ghi\":{\"jkl\":{\"mno\":{\"pqr\":{\"stu\":{\"vwx\":{\"yz\":\"you are finally here !!!\"}}}}}}}}}\n",
    "print_output(input_dict)\n"
   ]
  },
  {
   "cell_type": "code",
   "execution_count": null,
   "id": "982ac56f-ed64-427f-84ab-4784880f1050",
   "metadata": {},
   "outputs": [],
   "source": [
    "Q-3"
   ]
  },
  {
   "cell_type": "code",
   "execution_count": 19,
   "id": "30c4ea48-11ed-4ca1-ad07-dab1c29d0ade",
   "metadata": {},
   "outputs": [
    {
     "name": "stdout",
     "output_type": "stream",
     "text": [
      "---------.|.---------\n",
      "------.|..|..|.------\n",
      "---.|..|..|..|..|.---\n",
      "-------WELCOME-------\n",
      "---.|..|..|..|..|.---\n",
      "------.|..|..|.------\n",
      "---------.|.---------\n"
     ]
    }
   ],
   "source": [
    "def print_welcome_mat(N, M):\n",
    "    welcome_text = \"WELCOME\"\n",
    "\n",
    "    # Check if N is an odd natural number and M is 3 times N\n",
    "    if N % 2 == 1 and M == 3 * N:\n",
    "        # Print the top design\n",
    "        for i in range(1, N, 2):\n",
    "            print((\".|.\" * i).center(M, '-'))\n",
    "\n",
    "        # Print the welcome text\n",
    "        print(\"WELCOME\".center(M, '-'))\n",
    "\n",
    "        # Print the bottom design\n",
    "        for i in range(N - 2, 0, -2):\n",
    "            print((\".|.\" * i).center(M, '-'))\n",
    "    else:\n",
    "        print(\"Invalid dimensions. N should be an odd natural number, and M should be 3 times N.\")\n",
    "\n",
    "# Specify the dimensions of the door mat\n",
    "\n",
    "\n",
    "# Print the welcome mat\n",
    "print_welcome_mat(N, M)\n"
   ]
  },
  {
   "cell_type": "code",
   "execution_count": null,
   "id": "6e2a99b0-f0eb-4d32-abeb-fd096887ed02",
   "metadata": {},
   "outputs": [],
   "source": [
    "Q-4"
   ]
  },
  {
   "cell_type": "code",
   "execution_count": 23,
   "id": "2f68df10-4e6e-406f-a313-620572056749",
   "metadata": {},
   "outputs": [],
   "source": [
    "def four_sum(nums, target):\n",
    "    nums.sort()  \n",
    "    result = []\n",
    "\n",
    "    for a in range(len(nums) - 3):\n",
    "        \n",
    "        if a > 0 and nums[a] == nums[a - 1]:\n",
    "            continue\n",
    "\n",
    "        for b in range(a + 1, len(nums) - 2):\n",
    "            \n",
    "            if b > a + 1 and nums[b] == nums[b - 1]:\n",
    "                continue\n",
    "\n",
    "            \n",
    "            left, right = b + 1, len(nums) - 1\n",
    "            while left < right:\n",
    "                current_sum = nums[a] + nums[b] + nums[left] + nums[right]\n",
    "\n",
    "                if current_sum == target:\n",
    "                    result.append([nums[a], nums[b], nums[left], nums[right]])\n",
    "\n",
    "                    # Skip duplicates\n",
    "                    while left < right and nums[left] == nums[left + 1]:\n",
    "                        left += 1\n",
    "                    while left < right and nums[right] == nums[right - 1]:\n",
    "                        right -= 1\n",
    "\n",
    "                    left += 1\n",
    "                    right -= 1\n",
    "                elif current_sum < target:\n",
    "                    left += 1\n",
    "                else:\n",
    "                    right -= 1\n",
    "\n",
    "    return result\n",
    "\n",
    "\n"
   ]
  },
  {
   "cell_type": "code",
   "execution_count": 22,
   "id": "e810e5b5-63fb-4de2-862b-718108233d86",
   "metadata": {},
   "outputs": [
    {
     "name": "stdout",
     "output_type": "stream",
     "text": [
      "[[-2, -1, 1, 2], [-2, 0, 0, 2], [-1, 0, 0, 1]]\n"
     ]
    }
   ],
   "source": [
    "nums = [1, 0, -1, 0, -2, 2]\n",
    "target = 0\n",
    "result = four_sum(nums, target)\n",
    "print(result)\n"
   ]
  },
  {
   "cell_type": "code",
   "execution_count": null,
   "id": "479db85f-7261-4b83-a31d-b5c252c40525",
   "metadata": {},
   "outputs": [],
   "source": []
  }
 ],
 "metadata": {
  "kernelspec": {
   "display_name": "Python 3 (ipykernel)",
   "language": "python",
   "name": "python3"
  },
  "language_info": {
   "codemirror_mode": {
    "name": "ipython",
    "version": 3
   },
   "file_extension": ".py",
   "mimetype": "text/x-python",
   "name": "python",
   "nbconvert_exporter": "python",
   "pygments_lexer": "ipython3",
   "version": "3.11.4"
  }
 },
 "nbformat": 4,
 "nbformat_minor": 5
}
